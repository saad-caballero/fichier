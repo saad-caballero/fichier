{
 "cells": [
  {
   "cell_type": "code",
   "execution_count": null,
   "id": "b2372baa-4d8f-405b-a748-8d0f8ebc1e11",
   "metadata": {},
   "outputs": [],
   "source": [
    "def read_file(file_name):\n",
    "    with open(file_name, 'r') as f:\n",
    "        content = f.read()\n",
    "    return content\n",
    "\n",
    "file_content = read_file(\"example.txt\")\n",
    "print(file_content)\n",
    "def read_first_n_lines(file_name, n):\n",
    "    with open(file_name, 'r') as f:\n",
    "        lines = [next(f) for _ in range(n)]\n",
    "    return ''.join(lines)\n",
    "\n",
    "first_lines = read_first_n_lines(\"example.txt\", 3)\n",
    "print(first_lines)\n",
    "def read_last_n_lines(file_name, n):\n",
    "    with open(file_name, 'r') as f:\n",
    "        lines = f.readlines()[-n:]\n",
    "    return ''.join(lines)\n",
    "\n",
    "last_lines = read_last_n_lines(\"example.txt\", 3)\n",
    "print(last_lines)\n",
    "def count_words(file_name):\n",
    "    with open(file_name, 'r') as f:\n",
    "        content = f.read()\n",
    "        word_count = len(content.split())\n",
    "    return word_count\n",
    "\n",
    "num_words = count_words(\"example.txt\")\n",
    "print(\"Nombre de mots:\", num_words)\n",
    "def read_last_n_lines(file_name, n):\n",
    "    with open(file_name, 'r') as f:\n",
    "        lines = f.readlines()[-n:]\n",
    "    return ''.join(lines)\n",
    "\n",
    "last_lines = read_last_n_lines(\"example.txt\", 3)\n",
    "print(last_lines)\n"
   ]
  }
 ],
 "metadata": {
  "kernelspec": {
   "display_name": "Python 3 (ipykernel)",
   "language": "python",
   "name": "python3"
  },
  "language_info": {
   "codemirror_mode": {
    "name": "ipython",
    "version": 3
   },
   "file_extension": ".py",
   "mimetype": "text/x-python",
   "name": "python",
   "nbconvert_exporter": "python",
   "pygments_lexer": "ipython3",
   "version": "3.11.5"
  }
 },
 "nbformat": 4,
 "nbformat_minor": 5
}
